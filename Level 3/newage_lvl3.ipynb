{
  "cells": [
    {
      "cell_type": "markdown",
      "metadata": {
        "id": "V-nxd96Wr8jr"
      },
      "source": [
        "### Setup"
      ]
    },
    {
      "cell_type": "markdown",
      "metadata": {
        "id": "JrtgoIqlkue6"
      },
      "source": [
        "Install chromium-chromedriver into Google Colab"
      ]
    },
    {
      "cell_type": "code",
      "execution_count": null,
      "metadata": {
        "id": "hQVTDnn_YKQY"
      },
      "outputs": [],
      "source": [
        "!pip install selenium\n",
        "!pip install fake_useragent\n",
        "!apt-get update\n",
        "!apt install chromium-chromedriver"
      ]
    },
    {
      "cell_type": "markdown",
      "metadata": {
        "id": "mqb5M5Ipkyov"
      },
      "source": [
        "Import libs, init driver, vars and GS client"
      ]
    },
    {
      "cell_type": "code",
      "execution_count": 3,
      "metadata": {
        "id": "hVALtWVthmgz"
      },
      "outputs": [],
      "source": [
        "from selenium import webdriver\n",
        "from selenium.webdriver.support.ui import WebDriverWait\n",
        "from selenium.webdriver.support import expected_conditions as EC\n",
        "from selenium.webdriver.common.by import By\n",
        "from fake_useragent import UserAgent\n",
        "\n",
        "import re\n",
        "import pandas as pd\n",
        "\n",
        "from google.auth import default\n",
        "from google.colab import auth\n",
        "import gspread"
      ]
    },
    {
      "cell_type": "code",
      "execution_count": 5,
      "metadata": {
        "id": "RMxeVnJ8g7-1"
      },
      "outputs": [],
      "source": [
        "chrome_options = webdriver.ChromeOptions()\n",
        "chrome_options.add_argument('--headless')\n",
        "chrome_options.add_argument('--no-sandbox')\n",
        "chrome_options.add_argument('--disable-dev-shm-usage')\n",
        "chrome_options.add_argument('--start-maximized')\n",
        "chrome_options.add_argument('--window-size=1920,1080')\n",
        "# Initialize the user agent rotator\n",
        "ua = UserAgent()\n",
        "chrome_options.add_argument(f\"user-agent={ua.random}\")\n",
        "\n",
        "driver = webdriver.Chrome(options=chrome_options)"
      ]
    },
    {
      "cell_type": "code",
      "execution_count": 6,
      "metadata": {
        "id": "DeJTyGGGmC5z"
      },
      "outputs": [],
      "source": [
        "auth.authenticate_user()\n",
        "\n",
        "creds, _ = default()\n",
        "gs_client = gspread.authorize(creds)"
      ]
    },
    {
      "cell_type": "code",
      "execution_count": 7,
      "metadata": {
        "id": "WaNifBmPhEx1"
      },
      "outputs": [],
      "source": [
        "olx_url = 'https://www.olx.ua/uk/nedvizhimost/kvartiry/dolgosrochnaya-arenda-kvartir/'"
      ]
    },
    {
      "cell_type": "code",
      "execution_count": 8,
      "metadata": {
        "id": "B3pexqMBpfvN"
      },
      "outputs": [],
      "source": [
        "# Get html element after it appeared\n",
        "def get_element(by, name):\n",
        "    return WebDriverWait(driver, 30).until(EC.presence_of_element_located((by, name)))"
      ]
    },
    {
      "cell_type": "markdown",
      "metadata": {
        "id": "SeYoiQZbsFqC"
      },
      "source": [
        "### Parse pages avaliable"
      ]
    },
    {
      "cell_type": "markdown",
      "metadata": {
        "id": "N42NIZZvk6OG"
      },
      "source": [
        "Get last page"
      ]
    },
    {
      "cell_type": "code",
      "execution_count": 9,
      "metadata": {
        "id": "hk0xRDbfmitN"
      },
      "outputs": [],
      "source": [
        "driver.get(olx_url)\n",
        "pages = get_element(By.CLASS_NAME, 'pagination-list')\n",
        "last_page = int(pages.find_elements(By.TAG_NAME, 'li')[-1].text)"
      ]
    },
    {
      "cell_type": "markdown",
      "metadata": {
        "id": "FqZyez2noFm_"
      },
      "source": [
        "Generate all pages"
      ]
    },
    {
      "cell_type": "code",
      "execution_count": 10,
      "metadata": {
        "colab": {
          "base_uri": "https://localhost:8080/"
        },
        "id": "sQqKchRunwMh",
        "outputId": "a9df5954-3b6e-447a-d6d7-350cd9c29906"
      },
      "outputs": [
        {
          "data": {
            "text/plain": [
              "['https://www.olx.ua/uk/nedvizhimost/kvartiry/dolgosrochnaya-arenda-kvartir/?page=1',\n",
              " 'https://www.olx.ua/uk/nedvizhimost/kvartiry/dolgosrochnaya-arenda-kvartir/?page=2',\n",
              " 'https://www.olx.ua/uk/nedvizhimost/kvartiry/dolgosrochnaya-arenda-kvartir/?page=3',\n",
              " 'https://www.olx.ua/uk/nedvizhimost/kvartiry/dolgosrochnaya-arenda-kvartir/?page=4',\n",
              " 'https://www.olx.ua/uk/nedvizhimost/kvartiry/dolgosrochnaya-arenda-kvartir/?page=5',\n",
              " 'https://www.olx.ua/uk/nedvizhimost/kvartiry/dolgosrochnaya-arenda-kvartir/?page=6',\n",
              " 'https://www.olx.ua/uk/nedvizhimost/kvartiry/dolgosrochnaya-arenda-kvartir/?page=7',\n",
              " 'https://www.olx.ua/uk/nedvizhimost/kvartiry/dolgosrochnaya-arenda-kvartir/?page=8',\n",
              " 'https://www.olx.ua/uk/nedvizhimost/kvartiry/dolgosrochnaya-arenda-kvartir/?page=9',\n",
              " 'https://www.olx.ua/uk/nedvizhimost/kvartiry/dolgosrochnaya-arenda-kvartir/?page=10',\n",
              " 'https://www.olx.ua/uk/nedvizhimost/kvartiry/dolgosrochnaya-arenda-kvartir/?page=11',\n",
              " 'https://www.olx.ua/uk/nedvizhimost/kvartiry/dolgosrochnaya-arenda-kvartir/?page=12',\n",
              " 'https://www.olx.ua/uk/nedvizhimost/kvartiry/dolgosrochnaya-arenda-kvartir/?page=13',\n",
              " 'https://www.olx.ua/uk/nedvizhimost/kvartiry/dolgosrochnaya-arenda-kvartir/?page=14',\n",
              " 'https://www.olx.ua/uk/nedvizhimost/kvartiry/dolgosrochnaya-arenda-kvartir/?page=15',\n",
              " 'https://www.olx.ua/uk/nedvizhimost/kvartiry/dolgosrochnaya-arenda-kvartir/?page=16',\n",
              " 'https://www.olx.ua/uk/nedvizhimost/kvartiry/dolgosrochnaya-arenda-kvartir/?page=17',\n",
              " 'https://www.olx.ua/uk/nedvizhimost/kvartiry/dolgosrochnaya-arenda-kvartir/?page=18',\n",
              " 'https://www.olx.ua/uk/nedvizhimost/kvartiry/dolgosrochnaya-arenda-kvartir/?page=19',\n",
              " 'https://www.olx.ua/uk/nedvizhimost/kvartiry/dolgosrochnaya-arenda-kvartir/?page=20',\n",
              " 'https://www.olx.ua/uk/nedvizhimost/kvartiry/dolgosrochnaya-arenda-kvartir/?page=21',\n",
              " 'https://www.olx.ua/uk/nedvizhimost/kvartiry/dolgosrochnaya-arenda-kvartir/?page=22',\n",
              " 'https://www.olx.ua/uk/nedvizhimost/kvartiry/dolgosrochnaya-arenda-kvartir/?page=23',\n",
              " 'https://www.olx.ua/uk/nedvizhimost/kvartiry/dolgosrochnaya-arenda-kvartir/?page=24',\n",
              " 'https://www.olx.ua/uk/nedvizhimost/kvartiry/dolgosrochnaya-arenda-kvartir/?page=25']"
            ]
          },
          "execution_count": 10,
          "metadata": {},
          "output_type": "execute_result"
        }
      ],
      "source": [
        "pages_url = [f'{olx_url}?page={num}' for num in range(1, last_page+1)]\n",
        "pages_url"
      ]
    },
    {
      "cell_type": "markdown",
      "metadata": {
        "id": "Ji_CWgymuu-J"
      },
      "source": [
        "Get post url from each page"
      ]
    },
    {
      "cell_type": "code",
      "execution_count": 11,
      "metadata": {
        "id": "Rv5ZkTIVuYnJ"
      },
      "outputs": [],
      "source": [
        "get_cards_url_script = '''\n",
        "let url_list = []\n",
        "\n",
        "document.querySelectorAll(`[data-testid=\"l-card\"]`).forEach(card => {\n",
        "    card_url = card.getElementsByTagName('a')[0].href\n",
        "    url_list.push(card_url)\n",
        "})\n",
        "\n",
        "return url_list\n",
        "'''"
      ]
    },
    {
      "cell_type": "code",
      "execution_count": 12,
      "metadata": {
        "id": "D2aLIJ3buztH"
      },
      "outputs": [],
      "source": [
        "post_urls = []"
      ]
    },
    {
      "cell_type": "markdown",
      "metadata": {
        "id": "Ahgv2KW2K5q2"
      },
      "source": [
        "Parse first 5 pages"
      ]
    },
    {
      "cell_type": "code",
      "execution_count": 13,
      "metadata": {
        "id": "IwwBFYfRoeZj"
      },
      "outputs": [],
      "source": [
        "for page in pages_url[:5]:\n",
        "    driver.get(page)\n",
        "    urls = driver.execute_script(get_cards_url_script)\n",
        "    post_urls += urls"
      ]
    },
    {
      "cell_type": "code",
      "execution_count": 14,
      "metadata": {
        "colab": {
          "base_uri": "https://localhost:8080/"
        },
        "id": "zVXZrcKDuiQb",
        "outputId": "e4ac8d43-e024-4a1c-de28-7b3068e80443"
      },
      "outputs": [
        {
          "data": {
            "text/plain": [
              "260"
            ]
          },
          "execution_count": 14,
          "metadata": {},
          "output_type": "execute_result"
        }
      ],
      "source": [
        "len(post_urls)"
      ]
    },
    {
      "cell_type": "markdown",
      "metadata": {
        "id": "-WSesyJg2PaR"
      },
      "source": [
        "### Extract data from each post"
      ]
    },
    {
      "cell_type": "code",
      "execution_count": 15,
      "metadata": {
        "id": "qxfBkM9g5RjS"
      },
      "outputs": [],
      "source": [
        "post_df = pd.DataFrame(columns=['url', 'price', 'location', 'floor', 'max_floor', 'area'])"
      ]
    },
    {
      "cell_type": "code",
      "execution_count": 16,
      "metadata": {
        "id": "WAAsEVBTLH7K"
      },
      "outputs": [],
      "source": [
        "post_parse_script = '''\n",
        "let price = document.querySelector(`[data-testid=\"ad-price-container\"]`).innerText\n",
        "let spans = document.querySelectorAll('li')\n",
        "let side_section = document.querySelector(`[data-testid=\"aside\"]`).innerText\n",
        "\n",
        "let floor = NaN\n",
        "let max_floor = NaN\n",
        "let area = NaN\n",
        "\n",
        "for (let item of spans) {\n",
        "\n",
        "    if (item.innerText.startsWith('Поверховість'))\n",
        "        max_floor = item.innerText.match(/\\d+/)[0]\n",
        "    else if (item.innerText.startsWith('Поверх'))\n",
        "        floor = item.innerText.match(/\\d+/)[0]\n",
        "    else if (item.innerText.startsWith('Загальна площа'))\n",
        "        area = item.innerText.match(/\\d+/)[0]\n",
        "}\n",
        "\n",
        "let pos_loc = side_section.search('МІСЦЕЗНАХОДЖЕННЯ')\n",
        "let k_location = side_section.slice(pos_loc+18)\n",
        "let coma = k_location.search(',')\n",
        "let fin_location = k_location.slice(0, coma)\n",
        "\n",
        "\n",
        "return {fin_location, price, floor, max_floor, area}\n",
        "'''"
      ]
    },
    {
      "cell_type": "code",
      "execution_count": 17,
      "metadata": {
        "id": "TEXTNQivTtZf"
      },
      "outputs": [],
      "source": [
        "def parse_data(url):\n",
        "    # Function that parses price, location, floor, max_floor and area\n",
        "\n",
        "    # Delete cookies and get new User-Agent\n",
        "    driver.delete_all_cookies()\n",
        "    driver.execute_cdp_cmd('Network.setUserAgentOverride', {\"userAgent\": ua.random})\n",
        "\n",
        "    driver.get(url)\n",
        "\n",
        "    # Scroll to the needed field of view using JavaScript executor\n",
        "    driver.execute_script(\"window.scrollTo(0, 900);\")\n",
        "    driver.implicitly_wait(1)\n",
        "    # Wait a bit to ensure the content is fully loaded\n",
        "    WebDriverWait(driver, 10).until(lambda d: d.execute_script('return document.readyState') == 'complete')\n",
        "\n",
        "    post = driver.execute_script(post_parse_script)\n",
        "\n",
        "    return pd.DataFrame.from_dict({\n",
        "        'url': [url],\n",
        "        'price': [post['price']],\n",
        "        'location': [post['fin_location']],\n",
        "        'floor': [post['floor']],\n",
        "        'max_floor': [post['max_floor']],\n",
        "        'area': [post['area']]\n",
        "    })"
      ]
    },
    {
      "cell_type": "markdown",
      "metadata": {
        "id": "J9jBFldwyXrc"
      },
      "source": [
        "\n",
        "Parse each post webpage until all are processed. Each post will be processed max 5 times"
      ]
    },
    {
      "cell_type": "code",
      "execution_count": 18,
      "metadata": {
        "id": "0lCzKToGbZ9I"
      },
      "outputs": [],
      "source": [
        "post_parse_temp = post_urls"
      ]
    },
    {
      "cell_type": "code",
      "execution_count": null,
      "metadata": {
        "colab": {
          "base_uri": "https://localhost:8080/"
        },
        "id": "Oqs8WOL4bIcB",
        "outputId": "eee528a6-e630-4ea4-fd53-60624be2ee05"
      },
      "outputs": [],
      "source": [
        "soft_stop = 0\n",
        "\n",
        "while post_parse_temp and soft_stop < 5:\n",
        "\n",
        "    print(\"Urls to parse left:\", len(post_parse_temp))\n",
        "\n",
        "    for url in post_parse_temp:\n",
        "        try:\n",
        "            row_df = parse_data(url)\n",
        "            print(row_df.to_string())\n",
        "            post_df = pd.concat([post_df, row_df])\n",
        "        except Exception as e:\n",
        "            # 404\n",
        "            if driver.title == 'Хьюстон, в нас проблема.':\n",
        "                post_parse_temp.remove(url)\n",
        "            print(f\"ERROR: {driver.title} : {url}\")\n",
        "\n",
        "    # subtract parsed urls from list\n",
        "    # try to parse webpages with errors again (max 5 times)\n",
        "    post_parse_temp = list(set(post_parse_temp) - set(post_df.url.to_list()))\n",
        "    soft_stop += 1"
      ]
    },
    {
      "cell_type": "code",
      "execution_count": 21,
      "metadata": {
        "colab": {
          "base_uri": "https://localhost:8080/",
          "height": 423
        },
        "id": "MqP6pDwPLebW",
        "outputId": "c74c707d-7eb5-47db-c9e7-122d273b9500"
      },
      "outputs": [
        {
          "data": {
            "application/vnd.google.colaboratory.intrinsic+json": {
              "summary": "{\n  \"name\": \"post_df\",\n  \"rows\": 249,\n  \"fields\": [\n    {\n      \"column\": \"url\",\n      \"properties\": {\n        \"dtype\": \"string\",\n        \"num_unique_values\": 238,\n        \"samples\": [\n          \"https://www.olx.ua/d/uk/obyavlenie/orenda-1-kmnatno-kvartiri-kuhnya-studya-IDSxMWT.html\",\n          \"https://www.olx.ua/d/uk/obyavlenie/sdam-studiyu-zhk-bestuzhevskie-sady-ul-bestuzheva-11-IDStyWl.html\",\n          \"https://www.olx.ua/d/uk/obyavlenie/orenda-1-km-kvartiri-vul-galitska-IDT9RtY.html\"\n        ],\n        \"semantic_type\": \"\",\n        \"description\": \"\"\n      }\n    },\n    {\n      \"column\": \"price\",\n      \"properties\": {\n        \"dtype\": \"category\",\n        \"num_unique_values\": 119,\n        \"samples\": [\n          \"285 $\",\n          \"9 000 \\u0433\\u0440\\u043d.\\n\\n\\u0414\\u043e\\u0433\\u043e\\u0432\\u0456\\u0440\\u043d\\u0430\",\n          \"8 000 \\u0433\\u0440\\u043d.\"\n        ],\n        \"semantic_type\": \"\",\n        \"description\": \"\"\n      }\n    },\n    {\n      \"column\": \"location\",\n      \"properties\": {\n        \"dtype\": \"category\",\n        \"num_unique_values\": 38,\n        \"samples\": [\n          \"\\u0420\\u0456\\u0432\\u043d\\u0435\",\n          \"\\u041a\\u0443\\u0447\\u0435\\u0440\\u0456\\u0432\\u043a\\u0430\",\n          \"\\u0417\\u0430\\u043f\\u043e\\u0440\\u0456\\u0436\\u0436\\u044f\"\n        ],\n        \"semantic_type\": \"\",\n        \"description\": \"\"\n      }\n    },\n    {\n      \"column\": \"floor\",\n      \"properties\": {\n        \"dtype\": \"category\",\n        \"num_unique_values\": 24,\n        \"samples\": [\n          \"25\",\n          \"19\",\n          \"4\"\n        ],\n        \"semantic_type\": \"\",\n        \"description\": \"\"\n      }\n    },\n    {\n      \"column\": \"max_floor\",\n      \"properties\": {\n        \"dtype\": \"category\",\n        \"num_unique_values\": 28,\n        \"samples\": [\n          \"25\",\n          \"48\",\n          \"3\"\n        ],\n        \"semantic_type\": \"\",\n        \"description\": \"\"\n      }\n    },\n    {\n      \"column\": \"area\",\n      \"properties\": {\n        \"dtype\": \"category\",\n        \"num_unique_values\": 79,\n        \"samples\": [\n          \"200\",\n          \"170\",\n          \"20\"\n        ],\n        \"semantic_type\": \"\",\n        \"description\": \"\"\n      }\n    }\n  ]\n}",
              "type": "dataframe",
              "variable_name": "post_df"
            },
            "text/html": [
              "\n",
              "  <div id=\"df-1245bb25-f0f2-452a-adca-af65e4f111de\" class=\"colab-df-container\">\n",
              "    <div>\n",
              "<style scoped>\n",
              "    .dataframe tbody tr th:only-of-type {\n",
              "        vertical-align: middle;\n",
              "    }\n",
              "\n",
              "    .dataframe tbody tr th {\n",
              "        vertical-align: top;\n",
              "    }\n",
              "\n",
              "    .dataframe thead th {\n",
              "        text-align: right;\n",
              "    }\n",
              "</style>\n",
              "<table border=\"1\" class=\"dataframe\">\n",
              "  <thead>\n",
              "    <tr style=\"text-align: right;\">\n",
              "      <th></th>\n",
              "      <th>url</th>\n",
              "      <th>price</th>\n",
              "      <th>location</th>\n",
              "      <th>floor</th>\n",
              "      <th>max_floor</th>\n",
              "      <th>area</th>\n",
              "    </tr>\n",
              "  </thead>\n",
              "  <tbody>\n",
              "    <tr>\n",
              "      <th>0</th>\n",
              "      <td>https://www.olx.ua/d/uk/obyavlenie/orenda-4k-k...</td>\n",
              "      <td>3 800 $</td>\n",
              "      <td>Київ</td>\n",
              "      <td>4</td>\n",
              "      <td>9</td>\n",
              "      <td>170</td>\n",
              "    </tr>\n",
              "    <tr>\n",
              "      <th>0</th>\n",
              "      <td>https://www.olx.ua/d/uk/obyavlenie/srochnaya-a...</td>\n",
              "      <td>8 999 грн.</td>\n",
              "      <td>Черкаси</td>\n",
              "      <td>7</td>\n",
              "      <td>10</td>\n",
              "      <td>34</td>\n",
              "    </tr>\n",
              "    <tr>\n",
              "      <th>0</th>\n",
              "      <td>https://www.olx.ua/d/uk/obyavlenie/sdam-2k-met...</td>\n",
              "      <td>10 000 грн.</td>\n",
              "      <td>Харків</td>\n",
              "      <td>3</td>\n",
              "      <td>5</td>\n",
              "      <td>50</td>\n",
              "    </tr>\n",
              "    <tr>\n",
              "      <th>0</th>\n",
              "      <td>https://www.olx.ua/d/uk/obyavlenie/orenda-2-k-...</td>\n",
              "      <td>13 000 грн.</td>\n",
              "      <td>Львів</td>\n",
              "      <td>3</td>\n",
              "      <td>4</td>\n",
              "      <td>67</td>\n",
              "    </tr>\n",
              "    <tr>\n",
              "      <th>0</th>\n",
              "      <td>https://www.olx.ua/d/uk/obyavlenie/sdam-2k-kva...</td>\n",
              "      <td>8 000 грн.</td>\n",
              "      <td>Запоріжжя</td>\n",
              "      <td>6</td>\n",
              "      <td>9</td>\n",
              "      <td>52</td>\n",
              "    </tr>\n",
              "    <tr>\n",
              "      <th>...</th>\n",
              "      <td>...</td>\n",
              "      <td>...</td>\n",
              "      <td>...</td>\n",
              "      <td>...</td>\n",
              "      <td>...</td>\n",
              "      <td>...</td>\n",
              "    </tr>\n",
              "    <tr>\n",
              "      <th>0</th>\n",
              "      <td>https://www.olx.ua/d/uk/obyavlenie/zdatsya-2k-...</td>\n",
              "      <td>10 000 грн.</td>\n",
              "      <td>Хмельницький</td>\n",
              "      <td>4</td>\n",
              "      <td>9</td>\n",
              "      <td>63</td>\n",
              "    </tr>\n",
              "    <tr>\n",
              "      <th>0</th>\n",
              "      <td>https://www.olx.ua/d/uk/obyavlenie/orenda-zati...</td>\n",
              "      <td>26 000 грн.</td>\n",
              "      <td>Софіївська Борщагівка</td>\n",
              "      <td>5</td>\n",
              "      <td>10</td>\n",
              "      <td>67</td>\n",
              "    </tr>\n",
              "    <tr>\n",
              "      <th>0</th>\n",
              "      <td>https://www.olx.ua/d/uk/obyavlenie/dovgotrival...</td>\n",
              "      <td>13 500 грн.</td>\n",
              "      <td>Львів</td>\n",
              "      <td>4</td>\n",
              "      <td>5</td>\n",
              "      <td>55</td>\n",
              "    </tr>\n",
              "    <tr>\n",
              "      <th>0</th>\n",
              "      <td>https://www.olx.ua/d/uk/obyavlenie/zdam-kvarti...</td>\n",
              "      <td>200 $</td>\n",
              "      <td>Хуст</td>\n",
              "      <td>1</td>\n",
              "      <td>2</td>\n",
              "      <td>50</td>\n",
              "    </tr>\n",
              "    <tr>\n",
              "      <th>0</th>\n",
              "      <td>https://www.olx.ua/d/uk/obyavlenie/orenda-2-k-...</td>\n",
              "      <td>1 240 $</td>\n",
              "      <td>Київ</td>\n",
              "      <td>18</td>\n",
              "      <td>24</td>\n",
              "      <td>70</td>\n",
              "    </tr>\n",
              "  </tbody>\n",
              "</table>\n",
              "<p>249 rows × 6 columns</p>\n",
              "</div>\n",
              "    <div class=\"colab-df-buttons\">\n",
              "\n",
              "  <div class=\"colab-df-container\">\n",
              "    <button class=\"colab-df-convert\" onclick=\"convertToInteractive('df-1245bb25-f0f2-452a-adca-af65e4f111de')\"\n",
              "            title=\"Convert this dataframe to an interactive table.\"\n",
              "            style=\"display:none;\">\n",
              "\n",
              "  <svg xmlns=\"http://www.w3.org/2000/svg\" height=\"24px\" viewBox=\"0 -960 960 960\">\n",
              "    <path d=\"M120-120v-720h720v720H120Zm60-500h600v-160H180v160Zm220 220h160v-160H400v160Zm0 220h160v-160H400v160ZM180-400h160v-160H180v160Zm440 0h160v-160H620v160ZM180-180h160v-160H180v160Zm440 0h160v-160H620v160Z\"/>\n",
              "  </svg>\n",
              "    </button>\n",
              "\n",
              "  <style>\n",
              "    .colab-df-container {\n",
              "      display:flex;\n",
              "      gap: 12px;\n",
              "    }\n",
              "\n",
              "    .colab-df-convert {\n",
              "      background-color: #E8F0FE;\n",
              "      border: none;\n",
              "      border-radius: 50%;\n",
              "      cursor: pointer;\n",
              "      display: none;\n",
              "      fill: #1967D2;\n",
              "      height: 32px;\n",
              "      padding: 0 0 0 0;\n",
              "      width: 32px;\n",
              "    }\n",
              "\n",
              "    .colab-df-convert:hover {\n",
              "      background-color: #E2EBFA;\n",
              "      box-shadow: 0px 1px 2px rgba(60, 64, 67, 0.3), 0px 1px 3px 1px rgba(60, 64, 67, 0.15);\n",
              "      fill: #174EA6;\n",
              "    }\n",
              "\n",
              "    .colab-df-buttons div {\n",
              "      margin-bottom: 4px;\n",
              "    }\n",
              "\n",
              "    [theme=dark] .colab-df-convert {\n",
              "      background-color: #3B4455;\n",
              "      fill: #D2E3FC;\n",
              "    }\n",
              "\n",
              "    [theme=dark] .colab-df-convert:hover {\n",
              "      background-color: #434B5C;\n",
              "      box-shadow: 0px 1px 3px 1px rgba(0, 0, 0, 0.15);\n",
              "      filter: drop-shadow(0px 1px 2px rgba(0, 0, 0, 0.3));\n",
              "      fill: #FFFFFF;\n",
              "    }\n",
              "  </style>\n",
              "\n",
              "    <script>\n",
              "      const buttonEl =\n",
              "        document.querySelector('#df-1245bb25-f0f2-452a-adca-af65e4f111de button.colab-df-convert');\n",
              "      buttonEl.style.display =\n",
              "        google.colab.kernel.accessAllowed ? 'block' : 'none';\n",
              "\n",
              "      async function convertToInteractive(key) {\n",
              "        const element = document.querySelector('#df-1245bb25-f0f2-452a-adca-af65e4f111de');\n",
              "        const dataTable =\n",
              "          await google.colab.kernel.invokeFunction('convertToInteractive',\n",
              "                                                    [key], {});\n",
              "        if (!dataTable) return;\n",
              "\n",
              "        const docLinkHtml = 'Like what you see? Visit the ' +\n",
              "          '<a target=\"_blank\" href=https://colab.research.google.com/notebooks/data_table.ipynb>data table notebook</a>'\n",
              "          + ' to learn more about interactive tables.';\n",
              "        element.innerHTML = '';\n",
              "        dataTable['output_type'] = 'display_data';\n",
              "        await google.colab.output.renderOutput(dataTable, element);\n",
              "        const docLink = document.createElement('div');\n",
              "        docLink.innerHTML = docLinkHtml;\n",
              "        element.appendChild(docLink);\n",
              "      }\n",
              "    </script>\n",
              "  </div>\n",
              "\n",
              "\n",
              "<div id=\"df-c9f89de5-f578-4801-b44e-3ebe70f13079\">\n",
              "  <button class=\"colab-df-quickchart\" onclick=\"quickchart('df-c9f89de5-f578-4801-b44e-3ebe70f13079')\"\n",
              "            title=\"Suggest charts\"\n",
              "            style=\"display:none;\">\n",
              "\n",
              "<svg xmlns=\"http://www.w3.org/2000/svg\" height=\"24px\"viewBox=\"0 0 24 24\"\n",
              "     width=\"24px\">\n",
              "    <g>\n",
              "        <path d=\"M19 3H5c-1.1 0-2 .9-2 2v14c0 1.1.9 2 2 2h14c1.1 0 2-.9 2-2V5c0-1.1-.9-2-2-2zM9 17H7v-7h2v7zm4 0h-2V7h2v10zm4 0h-2v-4h2v4z\"/>\n",
              "    </g>\n",
              "</svg>\n",
              "  </button>\n",
              "\n",
              "<style>\n",
              "  .colab-df-quickchart {\n",
              "      --bg-color: #E8F0FE;\n",
              "      --fill-color: #1967D2;\n",
              "      --hover-bg-color: #E2EBFA;\n",
              "      --hover-fill-color: #174EA6;\n",
              "      --disabled-fill-color: #AAA;\n",
              "      --disabled-bg-color: #DDD;\n",
              "  }\n",
              "\n",
              "  [theme=dark] .colab-df-quickchart {\n",
              "      --bg-color: #3B4455;\n",
              "      --fill-color: #D2E3FC;\n",
              "      --hover-bg-color: #434B5C;\n",
              "      --hover-fill-color: #FFFFFF;\n",
              "      --disabled-bg-color: #3B4455;\n",
              "      --disabled-fill-color: #666;\n",
              "  }\n",
              "\n",
              "  .colab-df-quickchart {\n",
              "    background-color: var(--bg-color);\n",
              "    border: none;\n",
              "    border-radius: 50%;\n",
              "    cursor: pointer;\n",
              "    display: none;\n",
              "    fill: var(--fill-color);\n",
              "    height: 32px;\n",
              "    padding: 0;\n",
              "    width: 32px;\n",
              "  }\n",
              "\n",
              "  .colab-df-quickchart:hover {\n",
              "    background-color: var(--hover-bg-color);\n",
              "    box-shadow: 0 1px 2px rgba(60, 64, 67, 0.3), 0 1px 3px 1px rgba(60, 64, 67, 0.15);\n",
              "    fill: var(--button-hover-fill-color);\n",
              "  }\n",
              "\n",
              "  .colab-df-quickchart-complete:disabled,\n",
              "  .colab-df-quickchart-complete:disabled:hover {\n",
              "    background-color: var(--disabled-bg-color);\n",
              "    fill: var(--disabled-fill-color);\n",
              "    box-shadow: none;\n",
              "  }\n",
              "\n",
              "  .colab-df-spinner {\n",
              "    border: 2px solid var(--fill-color);\n",
              "    border-color: transparent;\n",
              "    border-bottom-color: var(--fill-color);\n",
              "    animation:\n",
              "      spin 1s steps(1) infinite;\n",
              "  }\n",
              "\n",
              "  @keyframes spin {\n",
              "    0% {\n",
              "      border-color: transparent;\n",
              "      border-bottom-color: var(--fill-color);\n",
              "      border-left-color: var(--fill-color);\n",
              "    }\n",
              "    20% {\n",
              "      border-color: transparent;\n",
              "      border-left-color: var(--fill-color);\n",
              "      border-top-color: var(--fill-color);\n",
              "    }\n",
              "    30% {\n",
              "      border-color: transparent;\n",
              "      border-left-color: var(--fill-color);\n",
              "      border-top-color: var(--fill-color);\n",
              "      border-right-color: var(--fill-color);\n",
              "    }\n",
              "    40% {\n",
              "      border-color: transparent;\n",
              "      border-right-color: var(--fill-color);\n",
              "      border-top-color: var(--fill-color);\n",
              "    }\n",
              "    60% {\n",
              "      border-color: transparent;\n",
              "      border-right-color: var(--fill-color);\n",
              "    }\n",
              "    80% {\n",
              "      border-color: transparent;\n",
              "      border-right-color: var(--fill-color);\n",
              "      border-bottom-color: var(--fill-color);\n",
              "    }\n",
              "    90% {\n",
              "      border-color: transparent;\n",
              "      border-bottom-color: var(--fill-color);\n",
              "    }\n",
              "  }\n",
              "</style>\n",
              "\n",
              "  <script>\n",
              "    async function quickchart(key) {\n",
              "      const quickchartButtonEl =\n",
              "        document.querySelector('#' + key + ' button');\n",
              "      quickchartButtonEl.disabled = true;  // To prevent multiple clicks.\n",
              "      quickchartButtonEl.classList.add('colab-df-spinner');\n",
              "      try {\n",
              "        const charts = await google.colab.kernel.invokeFunction(\n",
              "            'suggestCharts', [key], {});\n",
              "      } catch (error) {\n",
              "        console.error('Error during call to suggestCharts:', error);\n",
              "      }\n",
              "      quickchartButtonEl.classList.remove('colab-df-spinner');\n",
              "      quickchartButtonEl.classList.add('colab-df-quickchart-complete');\n",
              "    }\n",
              "    (() => {\n",
              "      let quickchartButtonEl =\n",
              "        document.querySelector('#df-c9f89de5-f578-4801-b44e-3ebe70f13079 button');\n",
              "      quickchartButtonEl.style.display =\n",
              "        google.colab.kernel.accessAllowed ? 'block' : 'none';\n",
              "    })();\n",
              "  </script>\n",
              "</div>\n",
              "    </div>\n",
              "  </div>\n"
            ],
            "text/plain": [
              "                                                  url        price  \\\n",
              "0   https://www.olx.ua/d/uk/obyavlenie/orenda-4k-k...      3 800 $   \n",
              "0   https://www.olx.ua/d/uk/obyavlenie/srochnaya-a...   8 999 грн.   \n",
              "0   https://www.olx.ua/d/uk/obyavlenie/sdam-2k-met...  10 000 грн.   \n",
              "0   https://www.olx.ua/d/uk/obyavlenie/orenda-2-k-...  13 000 грн.   \n",
              "0   https://www.olx.ua/d/uk/obyavlenie/sdam-2k-kva...   8 000 грн.   \n",
              "..                                                ...          ...   \n",
              "0   https://www.olx.ua/d/uk/obyavlenie/zdatsya-2k-...  10 000 грн.   \n",
              "0   https://www.olx.ua/d/uk/obyavlenie/orenda-zati...  26 000 грн.   \n",
              "0   https://www.olx.ua/d/uk/obyavlenie/dovgotrival...  13 500 грн.   \n",
              "0   https://www.olx.ua/d/uk/obyavlenie/zdam-kvarti...        200 $   \n",
              "0   https://www.olx.ua/d/uk/obyavlenie/orenda-2-k-...      1 240 $   \n",
              "\n",
              "                 location floor max_floor area  \n",
              "0                    Київ     4         9  170  \n",
              "0                 Черкаси     7        10   34  \n",
              "0                  Харків     3         5   50  \n",
              "0                   Львів     3         4   67  \n",
              "0               Запоріжжя     6         9   52  \n",
              "..                    ...   ...       ...  ...  \n",
              "0            Хмельницький     4         9   63  \n",
              "0   Софіївська Борщагівка     5        10   67  \n",
              "0                   Львів     4         5   55  \n",
              "0                    Хуст     1         2   50  \n",
              "0                    Київ    18        24   70  \n",
              "\n",
              "[249 rows x 6 columns]"
            ]
          },
          "execution_count": 21,
          "metadata": {},
          "output_type": "execute_result"
        }
      ],
      "source": [
        "post_df"
      ]
    },
    {
      "cell_type": "markdown",
      "metadata": {
        "id": "rGoCCKAlZxUY"
      },
      "source": [
        "### Expand price features into three columns:\n",
        "- price (number)\n",
        "- currency\n",
        "- negotiatied"
      ]
    },
    {
      "cell_type": "code",
      "execution_count": 34,
      "metadata": {
        "id": "0mZnCHk6a90e"
      },
      "outputs": [],
      "source": [
        "post_df = post_df.reset_index(drop=True)"
      ]
    },
    {
      "cell_type": "code",
      "execution_count": 60,
      "metadata": {
        "id": "vT7Mw2jtZ4G6"
      },
      "outputs": [],
      "source": [
        "def process_price(price_str):\n",
        "    price_str = price_str.replace(' ', '')\n",
        "    price_str = price_str.replace('\\n', '')\n",
        "    currency = 'гривня' if '$' not in price_str else 'доллар'\n",
        "    negotiated = False if 'Договірна' not in price_str else True\n",
        "\n",
        "    row = {\n",
        "        'price' : re.findall('\\d+', price_str)[0],\n",
        "        'currency' : currency,\n",
        "        'negotiated' : negotiated\n",
        "    }\n",
        "    return row"
      ]
    },
    {
      "cell_type": "code",
      "execution_count": 61,
      "metadata": {
        "id": "2KOFRbNBaE5X"
      },
      "outputs": [],
      "source": [
        "post_df['currency'] = post_df.price.apply(lambda x : process_price(x)['currency'])\n",
        "post_df['negotiated'] = post_df.price.apply(lambda x : process_price(x)['negotiated'])\n",
        "post_df['price'] = post_df.price.apply(lambda x : process_price(x)['price'])"
      ]
    },
    {
      "cell_type": "code",
      "execution_count": 62,
      "metadata": {
        "colab": {
          "base_uri": "https://localhost:8080/",
          "height": 423
        },
        "id": "2XgPtOXUd0QZ",
        "outputId": "ab8f0898-99b5-4eb3-ac17-01f3506e7a35"
      },
      "outputs": [
        {
          "data": {
            "application/vnd.google.colaboratory.intrinsic+json": {
              "summary": "{\n  \"name\": \"post_df\",\n  \"rows\": 249,\n  \"fields\": [\n    {\n      \"column\": \"url\",\n      \"properties\": {\n        \"dtype\": \"string\",\n        \"num_unique_values\": 238,\n        \"samples\": [\n          \"https://www.olx.ua/d/uk/obyavlenie/orenda-1-kmnatno-kvartiri-kuhnya-studya-IDSxMWT.html\",\n          \"https://www.olx.ua/d/uk/obyavlenie/sdam-studiyu-zhk-bestuzhevskie-sady-ul-bestuzheva-11-IDStyWl.html\",\n          \"https://www.olx.ua/d/uk/obyavlenie/orenda-1-km-kvartiri-vul-galitska-IDT9RtY.html\"\n        ],\n        \"semantic_type\": \"\",\n        \"description\": \"\"\n      }\n    },\n    {\n      \"column\": \"price\",\n      \"properties\": {\n        \"dtype\": \"category\",\n        \"num_unique_values\": 96,\n        \"samples\": [\n          \"9999\",\n          \"30000\",\n          \"15989\"\n        ],\n        \"semantic_type\": \"\",\n        \"description\": \"\"\n      }\n    },\n    {\n      \"column\": \"location\",\n      \"properties\": {\n        \"dtype\": \"category\",\n        \"num_unique_values\": 38,\n        \"samples\": [\n          \"\\u0420\\u0456\\u0432\\u043d\\u0435\",\n          \"\\u041a\\u0443\\u0447\\u0435\\u0440\\u0456\\u0432\\u043a\\u0430\",\n          \"\\u0417\\u0430\\u043f\\u043e\\u0440\\u0456\\u0436\\u0436\\u044f\"\n        ],\n        \"semantic_type\": \"\",\n        \"description\": \"\"\n      }\n    },\n    {\n      \"column\": \"floor\",\n      \"properties\": {\n        \"dtype\": \"category\",\n        \"num_unique_values\": 24,\n        \"samples\": [\n          \"25\",\n          \"19\",\n          \"4\"\n        ],\n        \"semantic_type\": \"\",\n        \"description\": \"\"\n      }\n    },\n    {\n      \"column\": \"max_floor\",\n      \"properties\": {\n        \"dtype\": \"category\",\n        \"num_unique_values\": 28,\n        \"samples\": [\n          \"25\",\n          \"48\",\n          \"3\"\n        ],\n        \"semantic_type\": \"\",\n        \"description\": \"\"\n      }\n    },\n    {\n      \"column\": \"area\",\n      \"properties\": {\n        \"dtype\": \"category\",\n        \"num_unique_values\": 79,\n        \"samples\": [\n          \"200\",\n          \"170\",\n          \"20\"\n        ],\n        \"semantic_type\": \"\",\n        \"description\": \"\"\n      }\n    },\n    {\n      \"column\": \"currency\",\n      \"properties\": {\n        \"dtype\": \"category\",\n        \"num_unique_values\": 2,\n        \"samples\": [\n          \"\\u0433\\u0440\\u0438\\u0432\\u043d\\u044f\",\n          \"\\u0434\\u043e\\u043b\\u043b\\u0430\\u0440\"\n        ],\n        \"semantic_type\": \"\",\n        \"description\": \"\"\n      }\n    },\n    {\n      \"column\": \"negotiated\",\n      \"properties\": {\n        \"dtype\": \"boolean\",\n        \"num_unique_values\": 2,\n        \"samples\": [\n          true,\n          false\n        ],\n        \"semantic_type\": \"\",\n        \"description\": \"\"\n      }\n    }\n  ]\n}",
              "type": "dataframe",
              "variable_name": "post_df"
            },
            "text/html": [
              "\n",
              "  <div id=\"df-14d3dccb-3ef6-49e3-aa6d-8437249c31d5\" class=\"colab-df-container\">\n",
              "    <div>\n",
              "<style scoped>\n",
              "    .dataframe tbody tr th:only-of-type {\n",
              "        vertical-align: middle;\n",
              "    }\n",
              "\n",
              "    .dataframe tbody tr th {\n",
              "        vertical-align: top;\n",
              "    }\n",
              "\n",
              "    .dataframe thead th {\n",
              "        text-align: right;\n",
              "    }\n",
              "</style>\n",
              "<table border=\"1\" class=\"dataframe\">\n",
              "  <thead>\n",
              "    <tr style=\"text-align: right;\">\n",
              "      <th></th>\n",
              "      <th>url</th>\n",
              "      <th>price</th>\n",
              "      <th>location</th>\n",
              "      <th>floor</th>\n",
              "      <th>max_floor</th>\n",
              "      <th>area</th>\n",
              "      <th>currency</th>\n",
              "      <th>negotiated</th>\n",
              "    </tr>\n",
              "  </thead>\n",
              "  <tbody>\n",
              "    <tr>\n",
              "      <th>0</th>\n",
              "      <td>https://www.olx.ua/d/uk/obyavlenie/orenda-4k-k...</td>\n",
              "      <td>3800</td>\n",
              "      <td>Київ</td>\n",
              "      <td>4</td>\n",
              "      <td>9</td>\n",
              "      <td>170</td>\n",
              "      <td>доллар</td>\n",
              "      <td>False</td>\n",
              "    </tr>\n",
              "    <tr>\n",
              "      <th>1</th>\n",
              "      <td>https://www.olx.ua/d/uk/obyavlenie/srochnaya-a...</td>\n",
              "      <td>8999</td>\n",
              "      <td>Черкаси</td>\n",
              "      <td>7</td>\n",
              "      <td>10</td>\n",
              "      <td>34</td>\n",
              "      <td>гривня</td>\n",
              "      <td>False</td>\n",
              "    </tr>\n",
              "    <tr>\n",
              "      <th>2</th>\n",
              "      <td>https://www.olx.ua/d/uk/obyavlenie/sdam-2k-met...</td>\n",
              "      <td>10000</td>\n",
              "      <td>Харків</td>\n",
              "      <td>3</td>\n",
              "      <td>5</td>\n",
              "      <td>50</td>\n",
              "      <td>гривня</td>\n",
              "      <td>False</td>\n",
              "    </tr>\n",
              "    <tr>\n",
              "      <th>3</th>\n",
              "      <td>https://www.olx.ua/d/uk/obyavlenie/orenda-2-k-...</td>\n",
              "      <td>13000</td>\n",
              "      <td>Львів</td>\n",
              "      <td>3</td>\n",
              "      <td>4</td>\n",
              "      <td>67</td>\n",
              "      <td>гривня</td>\n",
              "      <td>False</td>\n",
              "    </tr>\n",
              "    <tr>\n",
              "      <th>4</th>\n",
              "      <td>https://www.olx.ua/d/uk/obyavlenie/sdam-2k-kva...</td>\n",
              "      <td>8000</td>\n",
              "      <td>Запоріжжя</td>\n",
              "      <td>6</td>\n",
              "      <td>9</td>\n",
              "      <td>52</td>\n",
              "      <td>гривня</td>\n",
              "      <td>False</td>\n",
              "    </tr>\n",
              "    <tr>\n",
              "      <th>...</th>\n",
              "      <td>...</td>\n",
              "      <td>...</td>\n",
              "      <td>...</td>\n",
              "      <td>...</td>\n",
              "      <td>...</td>\n",
              "      <td>...</td>\n",
              "      <td>...</td>\n",
              "      <td>...</td>\n",
              "    </tr>\n",
              "    <tr>\n",
              "      <th>244</th>\n",
              "      <td>https://www.olx.ua/d/uk/obyavlenie/zdatsya-2k-...</td>\n",
              "      <td>10000</td>\n",
              "      <td>Хмельницький</td>\n",
              "      <td>4</td>\n",
              "      <td>9</td>\n",
              "      <td>63</td>\n",
              "      <td>гривня</td>\n",
              "      <td>False</td>\n",
              "    </tr>\n",
              "    <tr>\n",
              "      <th>245</th>\n",
              "      <td>https://www.olx.ua/d/uk/obyavlenie/orenda-zati...</td>\n",
              "      <td>26000</td>\n",
              "      <td>Софіївська Борщагівка</td>\n",
              "      <td>5</td>\n",
              "      <td>10</td>\n",
              "      <td>67</td>\n",
              "      <td>гривня</td>\n",
              "      <td>False</td>\n",
              "    </tr>\n",
              "    <tr>\n",
              "      <th>246</th>\n",
              "      <td>https://www.olx.ua/d/uk/obyavlenie/dovgotrival...</td>\n",
              "      <td>13500</td>\n",
              "      <td>Львів</td>\n",
              "      <td>4</td>\n",
              "      <td>5</td>\n",
              "      <td>55</td>\n",
              "      <td>гривня</td>\n",
              "      <td>False</td>\n",
              "    </tr>\n",
              "    <tr>\n",
              "      <th>247</th>\n",
              "      <td>https://www.olx.ua/d/uk/obyavlenie/zdam-kvarti...</td>\n",
              "      <td>200</td>\n",
              "      <td>Хуст</td>\n",
              "      <td>1</td>\n",
              "      <td>2</td>\n",
              "      <td>50</td>\n",
              "      <td>доллар</td>\n",
              "      <td>False</td>\n",
              "    </tr>\n",
              "    <tr>\n",
              "      <th>248</th>\n",
              "      <td>https://www.olx.ua/d/uk/obyavlenie/orenda-2-k-...</td>\n",
              "      <td>1240</td>\n",
              "      <td>Київ</td>\n",
              "      <td>18</td>\n",
              "      <td>24</td>\n",
              "      <td>70</td>\n",
              "      <td>доллар</td>\n",
              "      <td>False</td>\n",
              "    </tr>\n",
              "  </tbody>\n",
              "</table>\n",
              "<p>249 rows × 8 columns</p>\n",
              "</div>\n",
              "    <div class=\"colab-df-buttons\">\n",
              "\n",
              "  <div class=\"colab-df-container\">\n",
              "    <button class=\"colab-df-convert\" onclick=\"convertToInteractive('df-14d3dccb-3ef6-49e3-aa6d-8437249c31d5')\"\n",
              "            title=\"Convert this dataframe to an interactive table.\"\n",
              "            style=\"display:none;\">\n",
              "\n",
              "  <svg xmlns=\"http://www.w3.org/2000/svg\" height=\"24px\" viewBox=\"0 -960 960 960\">\n",
              "    <path d=\"M120-120v-720h720v720H120Zm60-500h600v-160H180v160Zm220 220h160v-160H400v160Zm0 220h160v-160H400v160ZM180-400h160v-160H180v160Zm440 0h160v-160H620v160ZM180-180h160v-160H180v160Zm440 0h160v-160H620v160Z\"/>\n",
              "  </svg>\n",
              "    </button>\n",
              "\n",
              "  <style>\n",
              "    .colab-df-container {\n",
              "      display:flex;\n",
              "      gap: 12px;\n",
              "    }\n",
              "\n",
              "    .colab-df-convert {\n",
              "      background-color: #E8F0FE;\n",
              "      border: none;\n",
              "      border-radius: 50%;\n",
              "      cursor: pointer;\n",
              "      display: none;\n",
              "      fill: #1967D2;\n",
              "      height: 32px;\n",
              "      padding: 0 0 0 0;\n",
              "      width: 32px;\n",
              "    }\n",
              "\n",
              "    .colab-df-convert:hover {\n",
              "      background-color: #E2EBFA;\n",
              "      box-shadow: 0px 1px 2px rgba(60, 64, 67, 0.3), 0px 1px 3px 1px rgba(60, 64, 67, 0.15);\n",
              "      fill: #174EA6;\n",
              "    }\n",
              "\n",
              "    .colab-df-buttons div {\n",
              "      margin-bottom: 4px;\n",
              "    }\n",
              "\n",
              "    [theme=dark] .colab-df-convert {\n",
              "      background-color: #3B4455;\n",
              "      fill: #D2E3FC;\n",
              "    }\n",
              "\n",
              "    [theme=dark] .colab-df-convert:hover {\n",
              "      background-color: #434B5C;\n",
              "      box-shadow: 0px 1px 3px 1px rgba(0, 0, 0, 0.15);\n",
              "      filter: drop-shadow(0px 1px 2px rgba(0, 0, 0, 0.3));\n",
              "      fill: #FFFFFF;\n",
              "    }\n",
              "  </style>\n",
              "\n",
              "    <script>\n",
              "      const buttonEl =\n",
              "        document.querySelector('#df-14d3dccb-3ef6-49e3-aa6d-8437249c31d5 button.colab-df-convert');\n",
              "      buttonEl.style.display =\n",
              "        google.colab.kernel.accessAllowed ? 'block' : 'none';\n",
              "\n",
              "      async function convertToInteractive(key) {\n",
              "        const element = document.querySelector('#df-14d3dccb-3ef6-49e3-aa6d-8437249c31d5');\n",
              "        const dataTable =\n",
              "          await google.colab.kernel.invokeFunction('convertToInteractive',\n",
              "                                                    [key], {});\n",
              "        if (!dataTable) return;\n",
              "\n",
              "        const docLinkHtml = 'Like what you see? Visit the ' +\n",
              "          '<a target=\"_blank\" href=https://colab.research.google.com/notebooks/data_table.ipynb>data table notebook</a>'\n",
              "          + ' to learn more about interactive tables.';\n",
              "        element.innerHTML = '';\n",
              "        dataTable['output_type'] = 'display_data';\n",
              "        await google.colab.output.renderOutput(dataTable, element);\n",
              "        const docLink = document.createElement('div');\n",
              "        docLink.innerHTML = docLinkHtml;\n",
              "        element.appendChild(docLink);\n",
              "      }\n",
              "    </script>\n",
              "  </div>\n",
              "\n",
              "\n",
              "<div id=\"df-4b65da3c-53a9-46b4-a4fd-c1b3c6d9ecac\">\n",
              "  <button class=\"colab-df-quickchart\" onclick=\"quickchart('df-4b65da3c-53a9-46b4-a4fd-c1b3c6d9ecac')\"\n",
              "            title=\"Suggest charts\"\n",
              "            style=\"display:none;\">\n",
              "\n",
              "<svg xmlns=\"http://www.w3.org/2000/svg\" height=\"24px\"viewBox=\"0 0 24 24\"\n",
              "     width=\"24px\">\n",
              "    <g>\n",
              "        <path d=\"M19 3H5c-1.1 0-2 .9-2 2v14c0 1.1.9 2 2 2h14c1.1 0 2-.9 2-2V5c0-1.1-.9-2-2-2zM9 17H7v-7h2v7zm4 0h-2V7h2v10zm4 0h-2v-4h2v4z\"/>\n",
              "    </g>\n",
              "</svg>\n",
              "  </button>\n",
              "\n",
              "<style>\n",
              "  .colab-df-quickchart {\n",
              "      --bg-color: #E8F0FE;\n",
              "      --fill-color: #1967D2;\n",
              "      --hover-bg-color: #E2EBFA;\n",
              "      --hover-fill-color: #174EA6;\n",
              "      --disabled-fill-color: #AAA;\n",
              "      --disabled-bg-color: #DDD;\n",
              "  }\n",
              "\n",
              "  [theme=dark] .colab-df-quickchart {\n",
              "      --bg-color: #3B4455;\n",
              "      --fill-color: #D2E3FC;\n",
              "      --hover-bg-color: #434B5C;\n",
              "      --hover-fill-color: #FFFFFF;\n",
              "      --disabled-bg-color: #3B4455;\n",
              "      --disabled-fill-color: #666;\n",
              "  }\n",
              "\n",
              "  .colab-df-quickchart {\n",
              "    background-color: var(--bg-color);\n",
              "    border: none;\n",
              "    border-radius: 50%;\n",
              "    cursor: pointer;\n",
              "    display: none;\n",
              "    fill: var(--fill-color);\n",
              "    height: 32px;\n",
              "    padding: 0;\n",
              "    width: 32px;\n",
              "  }\n",
              "\n",
              "  .colab-df-quickchart:hover {\n",
              "    background-color: var(--hover-bg-color);\n",
              "    box-shadow: 0 1px 2px rgba(60, 64, 67, 0.3), 0 1px 3px 1px rgba(60, 64, 67, 0.15);\n",
              "    fill: var(--button-hover-fill-color);\n",
              "  }\n",
              "\n",
              "  .colab-df-quickchart-complete:disabled,\n",
              "  .colab-df-quickchart-complete:disabled:hover {\n",
              "    background-color: var(--disabled-bg-color);\n",
              "    fill: var(--disabled-fill-color);\n",
              "    box-shadow: none;\n",
              "  }\n",
              "\n",
              "  .colab-df-spinner {\n",
              "    border: 2px solid var(--fill-color);\n",
              "    border-color: transparent;\n",
              "    border-bottom-color: var(--fill-color);\n",
              "    animation:\n",
              "      spin 1s steps(1) infinite;\n",
              "  }\n",
              "\n",
              "  @keyframes spin {\n",
              "    0% {\n",
              "      border-color: transparent;\n",
              "      border-bottom-color: var(--fill-color);\n",
              "      border-left-color: var(--fill-color);\n",
              "    }\n",
              "    20% {\n",
              "      border-color: transparent;\n",
              "      border-left-color: var(--fill-color);\n",
              "      border-top-color: var(--fill-color);\n",
              "    }\n",
              "    30% {\n",
              "      border-color: transparent;\n",
              "      border-left-color: var(--fill-color);\n",
              "      border-top-color: var(--fill-color);\n",
              "      border-right-color: var(--fill-color);\n",
              "    }\n",
              "    40% {\n",
              "      border-color: transparent;\n",
              "      border-right-color: var(--fill-color);\n",
              "      border-top-color: var(--fill-color);\n",
              "    }\n",
              "    60% {\n",
              "      border-color: transparent;\n",
              "      border-right-color: var(--fill-color);\n",
              "    }\n",
              "    80% {\n",
              "      border-color: transparent;\n",
              "      border-right-color: var(--fill-color);\n",
              "      border-bottom-color: var(--fill-color);\n",
              "    }\n",
              "    90% {\n",
              "      border-color: transparent;\n",
              "      border-bottom-color: var(--fill-color);\n",
              "    }\n",
              "  }\n",
              "</style>\n",
              "\n",
              "  <script>\n",
              "    async function quickchart(key) {\n",
              "      const quickchartButtonEl =\n",
              "        document.querySelector('#' + key + ' button');\n",
              "      quickchartButtonEl.disabled = true;  // To prevent multiple clicks.\n",
              "      quickchartButtonEl.classList.add('colab-df-spinner');\n",
              "      try {\n",
              "        const charts = await google.colab.kernel.invokeFunction(\n",
              "            'suggestCharts', [key], {});\n",
              "      } catch (error) {\n",
              "        console.error('Error during call to suggestCharts:', error);\n",
              "      }\n",
              "      quickchartButtonEl.classList.remove('colab-df-spinner');\n",
              "      quickchartButtonEl.classList.add('colab-df-quickchart-complete');\n",
              "    }\n",
              "    (() => {\n",
              "      let quickchartButtonEl =\n",
              "        document.querySelector('#df-4b65da3c-53a9-46b4-a4fd-c1b3c6d9ecac button');\n",
              "      quickchartButtonEl.style.display =\n",
              "        google.colab.kernel.accessAllowed ? 'block' : 'none';\n",
              "    })();\n",
              "  </script>\n",
              "</div>\n",
              "    </div>\n",
              "  </div>\n"
            ],
            "text/plain": [
              "                                                   url  price  \\\n",
              "0    https://www.olx.ua/d/uk/obyavlenie/orenda-4k-k...   3800   \n",
              "1    https://www.olx.ua/d/uk/obyavlenie/srochnaya-a...   8999   \n",
              "2    https://www.olx.ua/d/uk/obyavlenie/sdam-2k-met...  10000   \n",
              "3    https://www.olx.ua/d/uk/obyavlenie/orenda-2-k-...  13000   \n",
              "4    https://www.olx.ua/d/uk/obyavlenie/sdam-2k-kva...   8000   \n",
              "..                                                 ...    ...   \n",
              "244  https://www.olx.ua/d/uk/obyavlenie/zdatsya-2k-...  10000   \n",
              "245  https://www.olx.ua/d/uk/obyavlenie/orenda-zati...  26000   \n",
              "246  https://www.olx.ua/d/uk/obyavlenie/dovgotrival...  13500   \n",
              "247  https://www.olx.ua/d/uk/obyavlenie/zdam-kvarti...    200   \n",
              "248  https://www.olx.ua/d/uk/obyavlenie/orenda-2-k-...   1240   \n",
              "\n",
              "                  location floor max_floor area currency  negotiated  \n",
              "0                     Київ     4         9  170   доллар       False  \n",
              "1                  Черкаси     7        10   34   гривня       False  \n",
              "2                   Харків     3         5   50   гривня       False  \n",
              "3                    Львів     3         4   67   гривня       False  \n",
              "4                Запоріжжя     6         9   52   гривня       False  \n",
              "..                     ...   ...       ...  ...      ...         ...  \n",
              "244           Хмельницький     4         9   63   гривня       False  \n",
              "245  Софіївська Борщагівка     5        10   67   гривня       False  \n",
              "246                  Львів     4         5   55   гривня       False  \n",
              "247                   Хуст     1         2   50   доллар       False  \n",
              "248                   Київ    18        24   70   доллар       False  \n",
              "\n",
              "[249 rows x 8 columns]"
            ]
          },
          "execution_count": 62,
          "metadata": {},
          "output_type": "execute_result"
        }
      ],
      "source": [
        "post_df"
      ]
    },
    {
      "cell_type": "markdown",
      "metadata": {
        "id": "oOBGPt5imJzX"
      },
      "source": [
        "### Load final data into Google Spreadsheet"
      ]
    },
    {
      "cell_type": "code",
      "execution_count": 63,
      "metadata": {
        "colab": {
          "base_uri": "https://localhost:8080/"
        },
        "id": "8lv1knBck6Ny",
        "outputId": "38a4caf5-8bb2-46ca-dad3-3451d562cfba"
      },
      "outputs": [
        {
          "data": {
            "text/plain": [
              "{'spreadsheetId': '1JvFZ2QIa3KgIBzrUdwAFcsfJaywrqPmP_NTAgxQzLcI',\n",
              " 'updatedRange': \"'Аркуш1'!A1:H250\",\n",
              " 'updatedRows': 250,\n",
              " 'updatedColumns': 8,\n",
              " 'updatedCells': 2000}"
            ]
          },
          "execution_count": 63,
          "metadata": {},
          "output_type": "execute_result"
        }
      ],
      "source": [
        "spreadsheet = gs_client.create('OLX Parse Results')\n",
        "worksheet = spreadsheet.get_worksheet(0)\n",
        "worksheet.update([post_df.columns.values.tolist()] + post_df.values.tolist())"
      ]
    },
    {
      "cell_type": "code",
      "execution_count": 64,
      "metadata": {
        "colab": {
          "base_uri": "https://localhost:8080/",
          "height": 36
        },
        "id": "q7nUBd29Li9w",
        "outputId": "8782f7c6-f797-4b09-be93-60138c7d9492"
      },
      "outputs": [
        {
          "data": {
            "application/vnd.google.colaboratory.intrinsic+json": {
              "type": "string"
            },
            "text/plain": [
              "'https://docs.google.com/spreadsheets/d/1JvFZ2QIa3KgIBzrUdwAFcsfJaywrqPmP_NTAgxQzLcI'"
            ]
          },
          "execution_count": 64,
          "metadata": {},
          "output_type": "execute_result"
        }
      ],
      "source": [
        "spreadsheet.url"
      ]
    }
  ],
  "metadata": {
    "colab": {
      "provenance": []
    },
    "kernelspec": {
      "display_name": "Python 3",
      "name": "python3"
    },
    "language_info": {
      "name": "python"
    }
  },
  "nbformat": 4,
  "nbformat_minor": 0
}
